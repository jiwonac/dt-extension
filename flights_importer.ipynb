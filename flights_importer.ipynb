{
 "cells": [
  {
   "cell_type": "code",
   "execution_count": 1,
   "id": "e346c91b-b748-4c53-83ea-520da10350e7",
   "metadata": {
    "tags": []
   },
   "outputs": [
    {
     "data": {
      "text/plain": [
       "'/home/jwc/Documents/subgroup-dt'"
      ]
     },
     "execution_count": 1,
     "metadata": {},
     "output_type": "execute_result"
    }
   ],
   "source": [
    "pwd"
   ]
  },
  {
   "cell_type": "code",
   "execution_count": 2,
   "id": "1d88b1ac-abea-460c-b2c5-19ec66c4cfd1",
   "metadata": {
    "tags": []
   },
   "outputs": [],
   "source": [
    "import pandas as pd\n",
    "from dt import *\n",
    "import pickle"
   ]
  },
  {
   "cell_type": "code",
   "execution_count": 3,
   "id": "d12d94d9-e838-4fb3-b546-e69b5393242c",
   "metadata": {
    "tags": []
   },
   "outputs": [],
   "source": [
    "df = pd.read_csv('data/flights.csv')"
   ]
  },
  {
   "cell_type": "code",
   "execution_count": 4,
   "id": "1a5278f1-24f6-484f-bb39-c4c3dce50e0d",
   "metadata": {
    "tags": []
   },
   "outputs": [
    {
     "data": {
      "text/html": [
       "<div>\n",
       "<style scoped>\n",
       "    .dataframe tbody tr th:only-of-type {\n",
       "        vertical-align: middle;\n",
       "    }\n",
       "\n",
       "    .dataframe tbody tr th {\n",
       "        vertical-align: top;\n",
       "    }\n",
       "\n",
       "    .dataframe thead th {\n",
       "        text-align: right;\n",
       "    }\n",
       "</style>\n",
       "<table border=\"1\" class=\"dataframe\">\n",
       "  <thead>\n",
       "    <tr style=\"text-align: right;\">\n",
       "      <th></th>\n",
       "      <th>FL_DATE</th>\n",
       "      <th>MKT_UNIQUE_CARRIER</th>\n",
       "      <th>ORIGIN_STATE_NM</th>\n",
       "    </tr>\n",
       "  </thead>\n",
       "  <tbody>\n",
       "    <tr>\n",
       "      <th>0</th>\n",
       "      <td>1/1/2018 12:00:00 AM</td>\n",
       "      <td>AS</td>\n",
       "      <td>Alaska</td>\n",
       "    </tr>\n",
       "    <tr>\n",
       "      <th>1</th>\n",
       "      <td>1/1/2018 12:00:00 AM</td>\n",
       "      <td>AS</td>\n",
       "      <td>Alaska</td>\n",
       "    </tr>\n",
       "    <tr>\n",
       "      <th>2</th>\n",
       "      <td>1/1/2018 12:00:00 AM</td>\n",
       "      <td>AS</td>\n",
       "      <td>Alaska</td>\n",
       "    </tr>\n",
       "    <tr>\n",
       "      <th>3</th>\n",
       "      <td>1/1/2018 12:00:00 AM</td>\n",
       "      <td>AS</td>\n",
       "      <td>Alaska</td>\n",
       "    </tr>\n",
       "    <tr>\n",
       "      <th>4</th>\n",
       "      <td>1/1/2018 12:00:00 AM</td>\n",
       "      <td>AS</td>\n",
       "      <td>Alaska</td>\n",
       "    </tr>\n",
       "    <tr>\n",
       "      <th>...</th>\n",
       "      <td>...</td>\n",
       "      <td>...</td>\n",
       "      <td>...</td>\n",
       "    </tr>\n",
       "    <tr>\n",
       "      <th>18697333</th>\n",
       "      <td>12/31/2020 12:00:00 AM</td>\n",
       "      <td>WN</td>\n",
       "      <td>WI</td>\n",
       "    </tr>\n",
       "    <tr>\n",
       "      <th>18697334</th>\n",
       "      <td>12/31/2020 12:00:00 AM</td>\n",
       "      <td>WN</td>\n",
       "      <td>WI</td>\n",
       "    </tr>\n",
       "    <tr>\n",
       "      <th>18697335</th>\n",
       "      <td>12/31/2020 12:00:00 AM</td>\n",
       "      <td>WN</td>\n",
       "      <td>WI</td>\n",
       "    </tr>\n",
       "    <tr>\n",
       "      <th>18697336</th>\n",
       "      <td>12/31/2020 12:00:00 AM</td>\n",
       "      <td>WN</td>\n",
       "      <td>WI</td>\n",
       "    </tr>\n",
       "    <tr>\n",
       "      <th>18697337</th>\n",
       "      <td>12/31/2020 12:00:00 AM</td>\n",
       "      <td>WN</td>\n",
       "      <td>WI</td>\n",
       "    </tr>\n",
       "  </tbody>\n",
       "</table>\n",
       "<p>18697338 rows × 3 columns</p>\n",
       "</div>"
      ],
      "text/plain": [
       "                         FL_DATE MKT_UNIQUE_CARRIER ORIGIN_STATE_NM\n",
       "0           1/1/2018 12:00:00 AM                 AS          Alaska\n",
       "1           1/1/2018 12:00:00 AM                 AS          Alaska\n",
       "2           1/1/2018 12:00:00 AM                 AS          Alaska\n",
       "3           1/1/2018 12:00:00 AM                 AS          Alaska\n",
       "4           1/1/2018 12:00:00 AM                 AS          Alaska\n",
       "...                          ...                ...             ...\n",
       "18697333  12/31/2020 12:00:00 AM                 WN              WI\n",
       "18697334  12/31/2020 12:00:00 AM                 WN              WI\n",
       "18697335  12/31/2020 12:00:00 AM                 WN              WI\n",
       "18697336  12/31/2020 12:00:00 AM                 WN              WI\n",
       "18697337  12/31/2020 12:00:00 AM                 WN              WI\n",
       "\n",
       "[18697338 rows x 3 columns]"
      ]
     },
     "execution_count": 4,
     "metadata": {},
     "output_type": "execute_result"
    }
   ],
   "source": [
    "df"
   ]
  },
  {
   "cell_type": "code",
   "execution_count": 5,
   "id": "de786a4d-b6aa-4de5-8f78-391314f5dd4f",
   "metadata": {
    "tags": []
   },
   "outputs": [],
   "source": [
    "split_df = df.groupby(['MKT_UNIQUE_CARRIER'])"
   ]
  },
  {
   "cell_type": "code",
   "execution_count": 6,
   "id": "2b3950c1-5875-4da8-8cb2-bd5c7a7f3d1c",
   "metadata": {
    "tags": []
   },
   "outputs": [],
   "source": [
    "carriers = set(df['MKT_UNIQUE_CARRIER'])"
   ]
  },
  {
   "cell_type": "code",
   "execution_count": 7,
   "id": "df0c86ba-0cb0-499c-ada6-3d4ed12577d0",
   "metadata": {
    "tags": []
   },
   "outputs": [
    {
     "data": {
      "text/plain": [
       "{'AA', 'AS', 'B6', 'DL', 'F9', 'G4', 'HA', 'NK', 'UA', 'VX', 'WN'}"
      ]
     },
     "execution_count": 7,
     "metadata": {},
     "output_type": "execute_result"
    }
   ],
   "source": [
    "carriers"
   ]
  },
  {
   "cell_type": "code",
   "execution_count": 8,
   "id": "aff01fb4-a974-4748-892f-0af42c8a3590",
   "metadata": {
    "tags": []
   },
   "outputs": [],
   "source": [
    "states = set(df['ORIGIN_STATE_NM'])"
   ]
  },
  {
   "cell_type": "code",
   "execution_count": 9,
   "id": "e001aae3-9f08-4b46-8cf6-4073125f6301",
   "metadata": {
    "tags": []
   },
   "outputs": [
    {
     "data": {
      "text/plain": [
       "{'AK',\n",
       " 'AL',\n",
       " 'AR',\n",
       " 'AZ',\n",
       " 'Alabama',\n",
       " 'Alaska',\n",
       " 'Arizona',\n",
       " 'Arkansas',\n",
       " 'CA',\n",
       " 'CO',\n",
       " 'CT',\n",
       " 'California',\n",
       " 'Colorado',\n",
       " 'Connecticut',\n",
       " 'FL',\n",
       " 'Florida',\n",
       " 'GA',\n",
       " 'Georgia',\n",
       " 'HI',\n",
       " 'Hawaii',\n",
       " 'IA',\n",
       " 'ID',\n",
       " 'IL',\n",
       " 'IN',\n",
       " 'Idaho',\n",
       " 'Illinois',\n",
       " 'Indiana',\n",
       " 'Iowa',\n",
       " 'KS',\n",
       " 'KY',\n",
       " 'Kansas',\n",
       " 'Kentucky',\n",
       " 'LA',\n",
       " 'Louisiana',\n",
       " 'MA',\n",
       " 'MD',\n",
       " 'ME',\n",
       " 'MI',\n",
       " 'MN',\n",
       " 'MO',\n",
       " 'MS',\n",
       " 'MT',\n",
       " 'Maine',\n",
       " 'Maryland',\n",
       " 'Massachusetts',\n",
       " 'Michigan',\n",
       " 'Minnesota',\n",
       " 'Mississippi',\n",
       " 'Missouri',\n",
       " 'Montana',\n",
       " 'NC',\n",
       " 'ND',\n",
       " 'NE',\n",
       " 'NH',\n",
       " 'NJ',\n",
       " 'NM',\n",
       " 'NV',\n",
       " 'NY',\n",
       " 'Nebraska',\n",
       " 'Nevada',\n",
       " 'New Hampshire',\n",
       " 'New Jersey',\n",
       " 'New Mexico',\n",
       " 'New York',\n",
       " 'North Carolina',\n",
       " 'North Dakota',\n",
       " 'OH',\n",
       " 'OK',\n",
       " 'OR',\n",
       " 'Ohio',\n",
       " 'Oklahoma',\n",
       " 'Oregon',\n",
       " 'PA',\n",
       " 'PR',\n",
       " 'Pennsylvania',\n",
       " 'Puerto Rico',\n",
       " 'RI',\n",
       " 'Rhode Island',\n",
       " 'SC',\n",
       " 'SD',\n",
       " 'South Carolina',\n",
       " 'South Dakota',\n",
       " 'TN',\n",
       " 'TT',\n",
       " 'TX',\n",
       " 'Tennessee',\n",
       " 'Texas',\n",
       " 'U.S. Pacific Trust Territories and Possessions',\n",
       " 'U.S. Virgin Islands',\n",
       " 'UT',\n",
       " 'Utah',\n",
       " 'VA',\n",
       " 'VI',\n",
       " 'VT',\n",
       " 'Vermont',\n",
       " 'Virginia',\n",
       " 'WA',\n",
       " 'WI',\n",
       " 'WV',\n",
       " 'WY',\n",
       " 'Washington',\n",
       " 'West Virginia',\n",
       " 'Wisconsin',\n",
       " 'Wyoming'}"
      ]
     },
     "execution_count": 9,
     "metadata": {},
     "output_type": "execute_result"
    }
   ],
   "source": [
    "states"
   ]
  },
  {
   "cell_type": "code",
   "execution_count": 10,
   "id": "dcdec275-3b9d-4454-aa47-03b5ef707641",
   "metadata": {
    "tags": []
   },
   "outputs": [],
   "source": [
    "states_dict = {\n",
    " 'Alabama': 0,\n",
    " 'AL': 0,\n",
    " 'Alaska': 1,\n",
    " 'AK': 1,\n",
    " 'Arizona': 2,\n",
    " 'AZ': 2,\n",
    " 'Arkansas': 3,\n",
    " 'AR': 3,\n",
    " 'California': 4,\n",
    " 'CA': 4,\n",
    " 'Colorado': 5,\n",
    " 'CO': 5,\n",
    " 'Connecticut': 6,\n",
    " 'CT': 6,\n",
    " 'Florida': 7,\n",
    " 'FL': 7,\n",
    " 'Georgia': 8,\n",
    " 'GA': 8,\n",
    " 'Hawaii': 9,\n",
    " 'HI': 9,\n",
    " 'Idaho': 10,\n",
    " 'ID': 10,\n",
    " 'Illinois': 11,\n",
    " 'IL': 11,\n",
    " 'Indiana': 12,\n",
    " 'IN': 12,\n",
    " 'Iowa': 13,\n",
    " 'IA': 13,\n",
    " 'Kansas': 14,\n",
    " 'KS': 14,\n",
    " 'Kentucky': 15,\n",
    " 'KY': 15,\n",
    " 'Louisiana': 16,\n",
    " 'LA': 16,\n",
    " 'Maine': 17,\n",
    " 'ME': 17,\n",
    " 'Maryland': 18,\n",
    " 'MD': 18,\n",
    " 'Massachusetts': 19,\n",
    " 'MA': 19,\n",
    " 'Michigan': 20,\n",
    " 'MI': 20,\n",
    " 'Minnesota': 21,\n",
    " 'MN': 21,\n",
    " 'Mississippi': 22,\n",
    " 'MS': 22,\n",
    " 'Missouri': 23,\n",
    " 'MO': 23,\n",
    " 'Montana': 24,\n",
    " 'MT': 24,\n",
    " 'Nebraska': 25,\n",
    " 'NE': 25,\n",
    " 'Nevada': 26,\n",
    " 'NV': 26,\n",
    " 'New Hampshire': 27,\n",
    " 'NH': 27,\n",
    " 'New Jersey': 28,\n",
    " 'NJ': 28,\n",
    " 'New Mexico': 29,\n",
    " 'NM': 29,\n",
    " 'New York': 30,\n",
    " 'NY': 30,\n",
    " 'North Carolina': 31,\n",
    " 'NC': 31,\n",
    " 'North Dakota': 32,\n",
    " 'ND': 32,\n",
    " 'Oklahoma': 33,\n",
    " 'OK': 33,\n",
    " 'Oregon': 34,\n",
    " 'OR': 34,\n",
    " 'Ohio': 35,\n",
    " 'OH': 35,\n",
    " 'Pennsylvania': 36,\n",
    " 'PA': 36,\n",
    " 'Puerto Rico': 37,\n",
    " 'PR': 37,\n",
    " 'Rhode Island': 38,\n",
    " 'RI': 38,\n",
    " 'South Carolina': 39,\n",
    " 'SC': 39,\n",
    " 'South Dakota': 40,\n",
    " 'SD': 40,\n",
    " 'Tennessee': 41,\n",
    " 'TN': 41,\n",
    " 'Texas': 42,\n",
    " 'TX': 42,\n",
    " 'Utah': 43,\n",
    " 'UT': 43,\n",
    " 'Vermont': 44,\n",
    " 'VT': 44,\n",
    " 'Virginia': 45,\n",
    " 'VA': 45,\n",
    " 'Washington': 46,\n",
    " 'WA': 46,\n",
    " 'West Virginia': 47,\n",
    " 'WV': 47,\n",
    " 'Wisconsin': 48,\n",
    " 'WI': 48,\n",
    " 'Wyoming': 49,\n",
    " 'WY': 49,\n",
    " 'U.S. Pacific Trust Territories and Possessions': 50,\n",
    " 'TT': 50,\n",
    " 'U.S. Virgin Islands': 50,\n",
    " 'VI': 50,\n",
    "}"
   ]
  },
  {
   "cell_type": "code",
   "execution_count": 11,
   "id": "d8b88dd9-e29a-4851-82e4-57c1c997a4aa",
   "metadata": {
    "tags": []
   },
   "outputs": [],
   "source": [
    "def create_sources():\n",
    "    sources = []\n",
    "    for carrier in carriers:\n",
    "        source = RealSource(51, 1.0)\n",
    "        carrier_df = split_df.get_group(carrier)\n",
    "        for index, row in carrier_df.iterrows():\n",
    "            group = states_dict[row['ORIGIN_STATE_NM']]\n",
    "            data = index\n",
    "            point = DataPoint(group, data)\n",
    "            source.add_point(point)\n",
    "            print(str(index), end=\"\\r\")\n",
    "        sources.append(source)\n",
    "        print(str(carrier), end=\"\\r\")\n",
    "    return sources"
   ]
  },
  {
   "cell_type": "code",
   "execution_count": 12,
   "id": "db505f60-9df1-421c-a006-5e4d875f6022",
   "metadata": {},
   "outputs": [
    {
     "name": "stdout",
     "output_type": "stream",
     "text": [
      "WN697337\r"
     ]
    }
   ],
   "source": [
    "sources = create_sources()"
   ]
  },
  {
   "cell_type": "code",
   "execution_count": 13,
   "id": "97999091-b1b1-4ca9-a3f8-4a45bd05768e",
   "metadata": {
    "tags": []
   },
   "outputs": [],
   "source": [
    "with open(\"data/flights_sources.pickle\", \"wb\") as f:\n",
    "    pickle.dump(sources, f)"
   ]
  },
  {
   "cell_type": "code",
   "execution_count": 14,
   "id": "b2b1c8f7-0dc4-41d7-a7cb-d6c51c73ca72",
   "metadata": {},
   "outputs": [
    {
     "data": {
      "text/plain": [
       "18697338"
      ]
     },
     "execution_count": 14,
     "metadata": {},
     "output_type": "execute_result"
    }
   ],
   "source": [
    "len(df)"
   ]
  },
  {
   "cell_type": "code",
   "execution_count": 15,
   "id": "509655b8-1d96-4379-9acb-12bc3f555da2",
   "metadata": {
    "tags": []
   },
   "outputs": [
    {
     "data": {
      "text/plain": [
       "list"
      ]
     },
     "execution_count": 15,
     "metadata": {},
     "output_type": "execute_result"
    }
   ],
   "source": [
    "type(sources)"
   ]
  },
  {
   "cell_type": "code",
   "execution_count": null,
   "id": "de18a2c7-b365-4fb9-a759-0f2300e14345",
   "metadata": {},
   "outputs": [],
   "source": []
  }
 ],
 "metadata": {
  "kernelspec": {
   "display_name": "Python 3 (ipykernel)",
   "language": "python",
   "name": "python3"
  },
  "language_info": {
   "codemirror_mode": {
    "name": "ipython",
    "version": 3
   },
   "file_extension": ".py",
   "mimetype": "text/x-python",
   "name": "python",
   "nbconvert_exporter": "python",
   "pygments_lexer": "ipython3",
   "version": "3.10.9"
  }
 },
 "nbformat": 4,
 "nbformat_minor": 5
}
